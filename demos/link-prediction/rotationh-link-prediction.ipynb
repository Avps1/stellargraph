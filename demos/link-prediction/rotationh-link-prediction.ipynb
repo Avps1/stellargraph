{
 "cells": [
  {
   "cell_type": "markdown",
   "metadata": {},
   "source": [
    "# Knowledge graph link prediction with ComplEx\n"
   ]
  },
  {
   "cell_type": "markdown",
   "metadata": {
    "nbsphinx": "hidden",
    "tags": [
     "CloudRunner"
    ]
   },
   "source": [
    "<table><tr><td>Run the latest release of this notebook:</td><td><a href=\"https://mybinder.org/v2/gh/stellargraph/stellargraph/master?urlpath=lab/tree/demos/link-prediction/rotationh-link-prediction.ipynb\" alt=\"Open In Binder\" target=\"_parent\"><img src=\"https://mybinder.org/badge_logo.svg\"/></a></td><td><a href=\"https://colab.research.google.com/github/stellargraph/stellargraph/blob/master/demos/link-prediction/rotationh-link-prediction.ipynb\" alt=\"Open In Colab\" target=\"_parent\"><img src=\"https://colab.research.google.com/assets/colab-badge.svg\"/></a></td></tr></table>"
   ]
  },
  {
   "cell_type": "markdown",
   "metadata": {},
   "source": [
    "\n",
    "This notebook reproduces the experiments done in the paper that introduced the ComplEx algorith: Complex Embeddings for Simple Link Prediction, Théo Trouillon, Johannes Welbl, Sebastian Riedel, Éric Gaussier and Guillaume Bouchard, ICML 2016. http://jmlr.org/proceedings/papers/v48/trouillon16.pdf\n",
    "\n",
    "In table 2, the paper reports five metrics measured on the WN18 and FB15K datasets: \"raw\" MRR (mean reciprocal rank), \"filtered\" MRR and filtered Hits at {1, 3, 10}. This notebook measures all of these, as well as raw Hits at {1, 3, 10}."
   ]
  },
  {
   "cell_type": "code",
   "execution_count": 1,
   "metadata": {
    "nbsphinx": "hidden",
    "tags": [
     "CloudRunner"
    ]
   },
   "outputs": [],
   "source": [
    "# install StellarGraph if running on Google Colab\n",
    "import sys\n",
    "if 'google.colab' in sys.modules:\n",
    "  %pip install -q stellargraph[demos]==1.1.0b"
   ]
  },
  {
   "cell_type": "code",
   "execution_count": 2,
   "metadata": {
    "nbsphinx": "hidden",
    "tags": [
     "VersionCheck"
    ]
   },
   "outputs": [],
   "source": [
    "# verify that we're using the correct version of StellarGraph for this notebook\n",
    "import stellargraph as sg\n",
    "\n",
    "try:\n",
    "    sg.utils.validate_notebook_version(\"1.1.0b\")\n",
    "except AttributeError:\n",
    "    raise ValueError(\n",
    "        f\"This notebook requires StellarGraph version 1.1.0b, but a different version {sg.__version__} is installed.  Please see <https://github.com/stellargraph/stellargraph/issues/1172>.\"\n",
    "    ) from None"
   ]
  },
  {
   "cell_type": "code",
   "execution_count": 3,
   "metadata": {},
   "outputs": [],
   "source": [
    "from stellargraph import datasets, utils\n",
    "from tensorflow.keras import callbacks, optimizers, losses, metrics, regularizers, Model\n",
    "import numpy as np\n",
    "import pandas as pd\n",
    "\n",
    "from stellargraph.mapper import KGTripleGenerator\n",
    "from stellargraph.layer import knowledge_graph\n",
    "\n",
    "from IPython.display import HTML"
   ]
  },
  {
   "cell_type": "markdown",
   "metadata": {},
   "source": [
    "## Initialisation\n",
    "\n",
    "We need to set up our model parameters, like the number of epochs to train for, and the dimension of the embedding vectors we compute for each node and for each edge type.\n",
    "\n",
    "The evaluation is performed in three steps:\n",
    "\n",
    "1. Load the data\n",
    "2. Train a model\n",
    "3. Evaluate the model\n",
    "\n",
    "The paper says that it used:\n",
    "- the AdaGrad optimiser for 1000 epochs with an early stopping criterion evaluated every 50 epochs, but we've found using the Adam optimiser allows for much fewer epochs\n",
    "- an embedding dimension of 150 or 200, since they had close results\n",
    "- 10 negative samples (corrupted edges) per positive edge, which gives noticably improved performance on FB15k compared to using 1, and but not for WN18 (the paper evaluated 1, 2, 5 and 10 negative samples)"
   ]
  },
  {
   "cell_type": "code",
   "execution_count": 4,
   "metadata": {
    "tags": [
     "parameters"
    ]
   },
   "outputs": [],
   "source": [
    "epochs = 50\n",
    "embedding_dimension = 32\n",
    "negative_samples = 5"
   ]
  },
  {
   "cell_type": "markdown",
   "metadata": {},
   "source": [
    "## WN18RR\n",
    "\n",
    "The paper uses the WN18RR dataset for validation.\n",
    "\n",
    "### Load the data\n",
    "\n",
    "The dataset comes with a defined train, test and validation split, each consisting of subject, relation, object triples. We can load a `StellarGraph` object with all of the triples, as well as the individual splits as Pandas DataFrames, using the `load` method of the `WN18` dataset."
   ]
  },
  {
   "cell_type": "markdown",
   "metadata": {
    "tags": [
     "DataLoadingLinks"
    ]
   },
   "source": [
    "(See [the \"Loading from Pandas\" demo](../basics/loading-pandas.ipynb) for details on how data can be loaded.)"
   ]
  },
  {
   "cell_type": "code",
   "execution_count": 5,
   "metadata": {
    "tags": [
     "DataLoading"
    ]
   },
   "outputs": [
    {
     "data": {
      "text/html": [
       "The WN18RR dataset consists of triplets from WordNet 3.0 (http://wordnet.princeton.edu). There are 40,943 synsets and 11 relation types among them. The training set contains 86835 triplets, the validation set 3034 and the test set 3134. It is a reduced version of WN18 where inverse relations have been removed.Tim Dettmers, Pasquale Minervini, Pontus Stenetorp and Sebastian Riedel “Convolutional 2D Knowledge Graph Embeddings” (2017)."
      ],
      "text/plain": [
       "<IPython.core.display.HTML object>"
      ]
     },
     "metadata": {},
     "output_type": "display_data"
    }
   ],
   "source": [
    "wn18 = datasets.WN18RR()\n",
    "display(HTML(wn18.description))\n",
    "wn18_graph, wn18_train, wn18_test, wn18_valid = wn18.load()"
   ]
  },
  {
   "cell_type": "code",
   "execution_count": 6,
   "metadata": {},
   "outputs": [
    {
     "name": "stdout",
     "output_type": "stream",
     "text": [
      "StellarDiGraph: Directed multigraph\n",
      " Nodes: 40943, Edges: 93003\n",
      "\n",
      " Node types:\n",
      "  default: [40943]\n",
      "    Features: none\n",
      "    Edge types: default-_also_see->default, default-_derivationally_related_form->default, default-_has_part->default, default-_hypernym->default, default-_instance_hypernym->default, ... (6 more)\n",
      "\n",
      " Edge types:\n",
      "    default-_hypernym->default: [37221]\n",
      "        Weights: all 1 (default)\n",
      "    default-_derivationally_related_form->default: [31867]\n",
      "        Weights: all 1 (default)\n",
      "    default-_member_meronym->default: [7928]\n",
      "        Weights: all 1 (default)\n",
      "    default-_has_part->default: [5142]\n",
      "        Weights: all 1 (default)\n",
      "    default-_synset_domain_topic_of->default: [3335]\n",
      "        Weights: all 1 (default)\n",
      "    default-_instance_hypernym->default: [3150]\n",
      "        Weights: all 1 (default)\n",
      "    default-_also_see->default: [1396]\n",
      "        Weights: all 1 (default)\n",
      "    default-_verb_group->default: [1220]\n",
      "        Weights: all 1 (default)\n",
      "    default-_member_of_domain_region->default: [983]\n",
      "        Weights: all 1 (default)\n",
      "    default-_member_of_domain_usage->default: [675]\n",
      "        Weights: all 1 (default)\n",
      "    default-_similar_to->default: [86]\n",
      "        Weights: all 1 (default)\n"
     ]
    }
   ],
   "source": [
    "print(wn18_graph.info())"
   ]
  },
  {
   "cell_type": "markdown",
   "metadata": {},
   "source": [
    "### Train a model\n",
    "\n",
    "The ComplEx algorithm consists of some embedding layers and a scoring layer, but the `ComplEx` object means these details are invisible to us. The `ComplEx` model consumes \"knowledge-graph triples\", which can be produced in the appropriate format using `KGTripleGenerator`."
   ]
  },
  {
   "cell_type": "code",
   "execution_count": 7,
   "metadata": {},
   "outputs": [],
   "source": [
    "wn18_gen = KGTripleGenerator(wn18_graph, batch_size=500)\n",
    "\n",
    "wn18_complex = knowledge_graph.RotationHE(\n",
    "    wn18_gen, embedding_dimension=embedding_dimension,\n",
    ")\n",
    "\n",
    "wn18_inp, wn18_out = wn18_complex.in_out_tensors()\n",
    "\n",
    "wn18_model = Model(inputs=wn18_inp, outputs=wn18_out)\n",
    "\n",
    "wn18_model.compile(\n",
    "    optimizer=optimizers.Adam(lr=0.001),\n",
    "    loss=losses.BinaryCrossentropy(from_logits=True),\n",
    "    metrics=[metrics.BinaryAccuracy(threshold=0.0)],\n",
    ")"
   ]
  },
  {
   "cell_type": "markdown",
   "metadata": {},
   "source": [
    "Inputs for training are produced by calling the `KGTripleGenerator.flow` method, this takes a dataframe with `source`, `label` and `target` columns, where each row is a true edge in the knowledge graph.  The `negative_samples` parameter controls how many random edges are created for each positive edge to use as negative examples for training."
   ]
  },
  {
   "cell_type": "code",
   "execution_count": 8,
   "metadata": {},
   "outputs": [],
   "source": [
    "wn18_train_gen = wn18_gen.flow(\n",
    "    wn18_train, negative_samples=negative_samples, shuffle=True\n",
    ")\n",
    "wn18_valid_gen = wn18_gen.flow(wn18_valid, negative_samples=negative_samples)"
   ]
  },
  {
   "cell_type": "code",
   "execution_count": 9,
   "metadata": {},
   "outputs": [
    {
     "name": "stdout",
     "output_type": "stream",
     "text": [
      "  ['...']\n",
      "  ['...']\n",
      "Train for 174 steps, validate for 7 steps\n",
      "Epoch 1/50\n",
      "174/174 [==============================] - 7s 38ms/step - loss: 0.4497 - binary_accuracy: 0.8333 - val_loss: 0.4377 - val_binary_accuracy: 0.8333\n",
      "Epoch 2/50\n",
      "174/174 [==============================] - 5s 31ms/step - loss: 0.4083 - binary_accuracy: 0.8333 - val_loss: 0.4272 - val_binary_accuracy: 0.8333\n",
      "Epoch 3/50\n",
      "174/174 [==============================] - 5s 30ms/step - loss: 0.3733 - binary_accuracy: 0.8333 - val_loss: 0.4244 - val_binary_accuracy: 0.8333\n",
      "Epoch 4/50\n",
      "174/174 [==============================] - 5s 30ms/step - loss: 0.3411 - binary_accuracy: 0.8333 - val_loss: 0.4231 - val_binary_accuracy: 0.8334\n",
      "Epoch 5/50\n",
      "174/174 [==============================] - 5s 31ms/step - loss: 0.3133 - binary_accuracy: 0.8333 - val_loss: 0.4262 - val_binary_accuracy: 0.8334\n",
      "Epoch 6/50\n",
      "174/174 [==============================] - 5s 31ms/step - loss: 0.2904 - binary_accuracy: 0.8335 - val_loss: 0.4290 - val_binary_accuracy: 0.8333\n",
      "Epoch 7/50\n",
      "174/174 [==============================] - 6s 32ms/step - loss: 0.2712 - binary_accuracy: 0.8342 - val_loss: 0.4320 - val_binary_accuracy: 0.8335\n",
      "Epoch 8/50\n",
      "174/174 [==============================] - 6s 32ms/step - loss: 0.2550 - binary_accuracy: 0.8361 - val_loss: 0.4345 - val_binary_accuracy: 0.8341\n",
      "Epoch 9/50\n",
      "174/174 [==============================] - 5s 31ms/step - loss: 0.2413 - binary_accuracy: 0.8396 - val_loss: 0.4377 - val_binary_accuracy: 0.8344\n",
      "Epoch 10/50\n",
      "174/174 [==============================] - 5s 31ms/step - loss: 0.2293 - binary_accuracy: 0.8448 - val_loss: 0.4435 - val_binary_accuracy: 0.8350\n",
      "Epoch 11/50\n",
      "174/174 [==============================] - 5s 32ms/step - loss: 0.2187 - binary_accuracy: 0.8521 - val_loss: 0.4466 - val_binary_accuracy: 0.8362\n",
      "Epoch 12/50\n",
      "174/174 [==============================] - 6s 32ms/step - loss: 0.2094 - binary_accuracy: 0.8602 - val_loss: 0.4498 - val_binary_accuracy: 0.8374\n",
      "Epoch 13/50\n",
      "174/174 [==============================] - 6s 32ms/step - loss: 0.2010 - binary_accuracy: 0.8685 - val_loss: 0.4521 - val_binary_accuracy: 0.8389\n",
      "Epoch 14/50\n",
      "174/174 [==============================] - 5s 29ms/step - loss: 0.1934 - binary_accuracy: 0.8772 - val_loss: 0.4571 - val_binary_accuracy: 0.8407\n",
      "Epoch 15/50\n",
      "174/174 [==============================] - 5s 28ms/step - loss: 0.1861 - binary_accuracy: 0.8856 - val_loss: 0.4636 - val_binary_accuracy: 0.8427\n",
      "Epoch 16/50\n",
      "174/174 [==============================] - 5s 31ms/step - loss: 0.1798 - binary_accuracy: 0.8936 - val_loss: 0.4657 - val_binary_accuracy: 0.8454\n",
      "Epoch 17/50\n",
      "174/174 [==============================] - 5s 30ms/step - loss: 0.1736 - binary_accuracy: 0.9011 - val_loss: 0.4681 - val_binary_accuracy: 0.8476\n",
      "Epoch 18/50\n",
      "174/174 [==============================] - 6s 33ms/step - loss: 0.1678 - binary_accuracy: 0.9080 - val_loss: 0.4738 - val_binary_accuracy: 0.8500\n",
      "Epoch 19/50\n",
      "174/174 [==============================] - 6s 33ms/step - loss: 0.1626 - binary_accuracy: 0.9144 - val_loss: 0.4765 - val_binary_accuracy: 0.8525\n",
      "Epoch 20/50\n",
      "174/174 [==============================] - 5s 30ms/step - loss: 0.1577 - binary_accuracy: 0.9202 - val_loss: 0.4797 - val_binary_accuracy: 0.8557\n",
      "Epoch 21/50\n",
      "174/174 [==============================] - 5s 29ms/step - loss: 0.1529 - binary_accuracy: 0.9252 - val_loss: 0.4827 - val_binary_accuracy: 0.8581\n",
      "Epoch 22/50\n",
      "174/174 [==============================] - 5s 30ms/step - loss: 0.1485 - binary_accuracy: 0.9301 - val_loss: 0.4875 - val_binary_accuracy: 0.8606\n",
      "Epoch 23/50\n",
      "174/174 [==============================] - 5s 30ms/step - loss: 0.1441 - binary_accuracy: 0.9344 - val_loss: 0.4913 - val_binary_accuracy: 0.8634\n",
      "Epoch 24/50\n",
      "174/174 [==============================] - 5s 28ms/step - loss: 0.1400 - binary_accuracy: 0.9386 - val_loss: 0.4944 - val_binary_accuracy: 0.8664\n",
      "Epoch 25/50\n",
      "174/174 [==============================] - 5s 30ms/step - loss: 0.1365 - binary_accuracy: 0.9419 - val_loss: 0.4982 - val_binary_accuracy: 0.8688\n",
      "Epoch 26/50\n",
      "174/174 [==============================] - 5s 30ms/step - loss: 0.1325 - binary_accuracy: 0.9456 - val_loss: 0.5019 - val_binary_accuracy: 0.8720\n",
      "Epoch 27/50\n",
      "174/174 [==============================] - 6s 32ms/step - loss: 0.1289 - binary_accuracy: 0.9490 - val_loss: 0.5043 - val_binary_accuracy: 0.8741\n",
      "Epoch 28/50\n",
      "174/174 [==============================] - 5s 30ms/step - loss: 0.1256 - binary_accuracy: 0.9522 - val_loss: 0.5095 - val_binary_accuracy: 0.8758\n",
      "Epoch 29/50\n",
      "174/174 [==============================] - 5s 31ms/step - loss: 0.1223 - binary_accuracy: 0.9553 - val_loss: 0.5147 - val_binary_accuracy: 0.8776\n",
      "Epoch 30/50\n",
      "174/174 [==============================] - 5s 31ms/step - loss: 0.1192 - binary_accuracy: 0.9582 - val_loss: 0.5181 - val_binary_accuracy: 0.8800\n",
      "Epoch 31/50\n",
      "174/174 [==============================] - 5s 29ms/step - loss: 0.1162 - binary_accuracy: 0.9610 - val_loss: 0.5220 - val_binary_accuracy: 0.8815\n",
      "Epoch 32/50\n",
      "174/174 [==============================] - 5s 30ms/step - loss: 0.1134 - binary_accuracy: 0.9638 - val_loss: 0.5264 - val_binary_accuracy: 0.8830\n",
      "Epoch 33/50\n",
      "174/174 [==============================] - 5s 30ms/step - loss: 0.1105 - binary_accuracy: 0.9664 - val_loss: 0.5287 - val_binary_accuracy: 0.8856\n",
      "Epoch 34/50\n",
      "174/174 [==============================] - 5s 29ms/step - loss: 0.1079 - binary_accuracy: 0.9684 - val_loss: 0.5328 - val_binary_accuracy: 0.8871\n"
     ]
    }
   ],
   "source": [
    "wn18_es = callbacks.EarlyStopping(monitor=\"val_loss\", patience=30)\n",
    "wn18_history = wn18_model.fit(\n",
    "    wn18_train_gen, validation_data=wn18_valid_gen, epochs=epochs, callbacks=[wn18_es]\n",
    ")"
   ]
  },
  {
   "cell_type": "code",
   "execution_count": 10,
   "metadata": {},
   "outputs": [
    {
     "data": {
      "image/png": "[encoded data removed]",
      "text/plain": [
       "<Figure size 504x576 with 2 Axes>"
      ]
     },
     "metadata": {
      "needs_background": "light"
     },
     "output_type": "display_data"
    }
   ],
   "source": [
    "utils.plot_history(wn18_history)"
   ]
  },
  {
   "cell_type": "markdown",
   "metadata": {},
   "source": [
    "### Evaluate the model\n",
    "\n",
    "We've now trained a model, so we can apply the evaluation procedure from the paper to it. This is done by taking each test edge `E = (s, r, o)`, and scoring it against all mutations `(s, r, n)` and `(n, r, o)` for every node `n` in the graph, that is, doing a prediction for every one of these edges similar to `E`. The \"raw\" rank is the number of mutated edges that have a higher predicted score than the true `E`."
   ]
  },
  {
   "cell_type": "code",
   "execution_count": 11,
   "metadata": {},
   "outputs": [],
   "source": [
    "wn18_raw_ranks, wn18_filtered_ranks = wn18_complex.rank_edges_against_all_nodes(\n",
    "    wn18_gen.flow(wn18_test), wn18_graph\n",
    ")"
   ]
  },
  {
   "cell_type": "code",
   "execution_count": 12,
   "metadata": {},
   "outputs": [],
   "source": [
    "# helper function to compute metrics from a dictionary of name -> array of ranks\n",
    "def results_as_dataframe(name_to_results):\n",
    "    return pd.DataFrame(\n",
    "        name_to_results.values(),\n",
    "        columns=[\"mrr\", \"hits at 1\", \"hits at 3\", \"hits at 10\"],\n",
    "        index=name_to_results.keys(),\n",
    "    )\n",
    "\n",
    "\n",
    "def summarise(name_to_ranks):\n",
    "    return results_as_dataframe(\n",
    "        {\n",
    "            name: (\n",
    "                np.mean(1 / ranks),\n",
    "                np.mean(ranks <= 1),\n",
    "                np.mean(ranks < 3),\n",
    "                np.mean(ranks <= 10),\n",
    "            )\n",
    "            for name, ranks in name_to_ranks.items()\n",
    "        }\n",
    "    )"
   ]
  },
  {
   "cell_type": "code",
   "execution_count": 13,
   "metadata": {},
   "outputs": [
    {
     "data": {
      "text/html": [
       "<div>\n",
       "<style scoped>\n",
       "    .dataframe tbody tr th:only-of-type {\n",
       "        vertical-align: middle;\n",
       "    }\n",
       "\n",
       "    .dataframe tbody tr th {\n",
       "        vertical-align: top;\n",
       "    }\n",
       "\n",
       "    .dataframe thead th {\n",
       "        text-align: right;\n",
       "    }\n",
       "</style>\n",
       "<table border=\"1\" class=\"dataframe\">\n",
       "  <thead>\n",
       "    <tr style=\"text-align: right;\">\n",
       "      <th></th>\n",
       "      <th>mrr</th>\n",
       "      <th>hits at 1</th>\n",
       "      <th>hits at 3</th>\n",
       "      <th>hits at 10</th>\n",
       "    </tr>\n",
       "  </thead>\n",
       "  <tbody>\n",
       "    <tr>\n",
       "      <th>raw</th>\n",
       "      <td>0.598731</td>\n",
       "      <td>0.4814</td>\n",
       "      <td>0.6065</td>\n",
       "      <td>0.8192</td>\n",
       "    </tr>\n",
       "    <tr>\n",
       "      <th>filtered</th>\n",
       "      <td>0.940128</td>\n",
       "      <td>0.9299</td>\n",
       "      <td>0.9451</td>\n",
       "      <td>0.9546</td>\n",
       "    </tr>\n",
       "  </tbody>\n",
       "</table>\n",
       "</div>"
      ],
      "text/plain": [
       "               mrr  hits at 1  hits at 3  hits at 10\n",
       "raw       0.598731     0.4814     0.6065      0.8192\n",
       "filtered  0.940128     0.9299     0.9451      0.9546"
      ]
     },
     "execution_count": 39,
     "metadata": {},
     "output_type": "execute_result"
    }
   ],
   "source": [
    "summarise({\"raw\": wn18_raw_ranks, \"filtered\": wn18_filtered_ranks})"
   ]
  },
  {
   "cell_type": "markdown",
   "metadata": {},
   "source": [
    "For comparison, Table 2 in the paper gives the following results for WN18 (`NaN` denotes values the paper does not include). All of the numbers are similar:"
   ]
  },
  {
   "cell_type": "code",
   "execution_count": 14,
   "metadata": {},
   "outputs": [
    {
     "data": {
      "text/html": [
       "<div>\n",
       "<style scoped>\n",
       "    .dataframe tbody tr th:only-of-type {\n",
       "        vertical-align: middle;\n",
       "    }\n",
       "\n",
       "    .dataframe tbody tr th {\n",
       "        vertical-align: top;\n",
       "    }\n",
       "\n",
       "    .dataframe thead th {\n",
       "        text-align: right;\n",
       "    }\n",
       "</style>\n",
       "<table border=\"1\" class=\"dataframe\">\n",
       "  <thead>\n",
       "    <tr style=\"text-align: right;\">\n",
       "      <th></th>\n",
       "      <th>mrr</th>\n",
       "      <th>hits at 1</th>\n",
       "      <th>hits at 3</th>\n",
       "      <th>hits at 10</th>\n",
       "    </tr>\n",
       "  </thead>\n",
       "  <tbody>\n",
       "    <tr>\n",
       "      <th>raw</th>\n",
       "      <td>0.587</td>\n",
       "      <td>NaN</td>\n",
       "      <td>NaN</td>\n",
       "      <td>NaN</td>\n",
       "    </tr>\n",
       "    <tr>\n",
       "      <th>filtered</th>\n",
       "      <td>0.941</td>\n",
       "      <td>0.936</td>\n",
       "      <td>0.945</td>\n",
       "      <td>0.947</td>\n",
       "    </tr>\n",
       "  </tbody>\n",
       "</table>\n",
       "</div>"
      ],
      "text/plain": [
       "            mrr  hits at 1  hits at 3  hits at 10\n",
       "raw       0.587        NaN        NaN         NaN\n",
       "filtered  0.941      0.936      0.945       0.947"
      ]
     },
     "execution_count": 12,
     "metadata": {},
     "output_type": "execute_result"
    }
   ],
   "source": [
    "results_as_dataframe(\n",
    "    {\"raw\": (0.587, None, None, None), \"filtered\": (0.941, 0.936, 0.945, 0.947)}\n",
    ")"
   ]
  },
  {
   "cell_type": "markdown",
   "metadata": {
    "nbsphinx": "hidden",
    "tags": [
     "CloudRunner"
    ]
   },
   "source": [
    "<table><tr><td>Run the latest release of this notebook:</td><td><a href=\"https://mybinder.org/v2/gh/stellargraph/stellargraph/master?urlpath=lab/tree/demos/link-prediction/rotationh-link-prediction.ipynb\" alt=\"Open In Binder\" target=\"_parent\"><img src=\"https://mybinder.org/badge_logo.svg\"/></a></td><td><a href=\"https://colab.research.google.com/github/stellargraph/stellargraph/blob/master/demos/link-prediction/rotationh-link-prediction.ipynb\" alt=\"Open In Colab\" target=\"_parent\"><img src=\"https://colab.research.google.com/assets/colab-badge.svg\"/></a></td></tr></table>"
   ]
  }
 ],
 "metadata": {
  "kernelspec": {
   "display_name": "Python 3",
   "language": "python",
   "name": "python3"
  },
  "language_info": {
   "codemirror_mode": {
    "name": "ipython",
    "version": 3
   },
   "file_extension": ".py",
   "mimetype": "text/x-python",
   "name": "python",
   "nbconvert_exporter": "python",
   "pygments_lexer": "ipython3",
   "version": "3.6.9"
  }
 },
 "nbformat": 4,
 "nbformat_minor": 4
}
